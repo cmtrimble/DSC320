{
  "metadata": {
    "kernelspec": {
      "name": "python",
      "display_name": "Python (Pyodide)",
      "language": "python"
    },
    "language_info": {
      "codemirror_mode": {
        "name": "python",
        "version": 3
      },
      "file_extension": ".py",
      "mimetype": "text/x-python",
      "name": "python",
      "nbconvert_exporter": "python",
      "pygments_lexer": "ipython3",
      "version": "3.8"
    }
  },
  "nbformat_minor": 4,
  "nbformat": 4,
  "cells": [
    {
      "cell_type": "code",
      "source": "import matplotlib.pyplot as plt\nfrom scipy.optimize import minimize\n# Define the polynomial function\ndef f(p):\n    return 0.005 * p ** 6 - 0.27 * p ** 5 + 5.998 * p ** 4 - 69.919 * p ** 3 + 449.17 * p ** 2 - 1499.7 * p + 2028\n# Use scipy.optimize.minimize to find the minimum\nresult = minimize(f, x0=0)  # x0 is the initial guess\n# Extract the value of p that minimizes the function\np_min = result.x[0]\nmin_error = result.fun\n# Plot the function\np = np.linspace(start=-10, stop=10, num=400)\nfp = np.polyval([0.005, -0.27, 5.998, -69.919, 449.17, -1499.7, 2028], p)\nplt.plot(p, fp, label='f(p)')\nplt.plot(p_min, f_min, 'ro', label='Minimum')  # Mark the minimum with a red dot\n# Add labels and title\nplt.xlabel('p')\nplt.ylabel('f(p)')\nplt.title('Polynomial Function Plot')\n# Add a legend\nplt.legend()\n# Show the plot\nplt.show()\n",
      "metadata": {
        "trusted": true
      },
      "outputs": [
        {
          "ename": "<class 'NameError'>",
          "evalue": "name 'np' is not defined",
          "traceback": [
            "\u001b[0;31m---------------------------------------------------------------------------\u001b[0m",
            "\u001b[0;31mNameError\u001b[0m                                 Traceback (most recent call last)",
            "Cell \u001b[0;32mIn[2], line 12\u001b[0m\n\u001b[1;32m     10\u001b[0m min_error \u001b[38;5;241m=\u001b[39m result\u001b[38;5;241m.\u001b[39mfun\n\u001b[1;32m     11\u001b[0m \u001b[38;5;66;03m# Plot the function\u001b[39;00m\n\u001b[0;32m---> 12\u001b[0m p \u001b[38;5;241m=\u001b[39m \u001b[43mnp\u001b[49m\u001b[38;5;241m.\u001b[39mlinspace(start\u001b[38;5;241m=\u001b[39m\u001b[38;5;241m-\u001b[39m\u001b[38;5;241m10\u001b[39m, stop\u001b[38;5;241m=\u001b[39m\u001b[38;5;241m10\u001b[39m, num\u001b[38;5;241m=\u001b[39m\u001b[38;5;241m400\u001b[39m)\n\u001b[1;32m     13\u001b[0m fp \u001b[38;5;241m=\u001b[39m np\u001b[38;5;241m.\u001b[39mpolyval([\u001b[38;5;241m0.005\u001b[39m, \u001b[38;5;241m-\u001b[39m\u001b[38;5;241m0.27\u001b[39m, \u001b[38;5;241m5.998\u001b[39m, \u001b[38;5;241m-\u001b[39m\u001b[38;5;241m69.919\u001b[39m, \u001b[38;5;241m449.17\u001b[39m, \u001b[38;5;241m-\u001b[39m\u001b[38;5;241m1499.7\u001b[39m, \u001b[38;5;241m2028\u001b[39m], p)\n\u001b[1;32m     14\u001b[0m plt\u001b[38;5;241m.\u001b[39mplot(p, fp, label\u001b[38;5;241m=\u001b[39m\u001b[38;5;124m'\u001b[39m\u001b[38;5;124mf(p)\u001b[39m\u001b[38;5;124m'\u001b[39m)\n",
            "\u001b[0;31mNameError\u001b[0m: name 'np' is not defined"
          ],
          "output_type": "error"
        }
      ],
      "execution_count": 2
    },
    {
      "cell_type": "code",
      "source": "",
      "metadata": {
        "trusted": true
      },
      "outputs": [],
      "execution_count": null
    }
  ]
}