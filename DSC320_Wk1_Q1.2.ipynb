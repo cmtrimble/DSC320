{
  "metadata": {
    "kernelspec": {
      "name": "python",
      "display_name": "Python (Pyodide)",
      "language": "python"
    },
    "language_info": {
      "codemirror_mode": {
        "name": "python",
        "version": 3
      },
      "file_extension": ".py",
      "mimetype": "text/x-python",
      "name": "python",
      "nbconvert_exporter": "python",
      "pygments_lexer": "ipython3",
      "version": "3.8"
    }
  },
  "nbformat_minor": 4,
  "nbformat": 4,
  "cells": [
    {
      "cell_type": "code",
      "source": "#import necessary tools\nimport numpy as np\nimport pandas as pd\n\n#Read CSV to define columns using Pandas\ndf = pd.read_csv('housing_data.csv')\n\n#define actual and predicted values\nactual_values = df['sale_price_actual']\npredicted_values = df['sale_price_pred']\n\n#define RMSE\nrmse = np.sqrt(np.mean((actual_values - predicted_values) ** 2))\n\n#show results of RMSE calculation using Numpy\nprint(f\"RMSE: {rmse}\")\n\n#define function for MAE\ndef mae(actual_values, predicted_values):\n  return np.mean(np.abs(actual_values - predicted_values))\n\n#show results for MAE calculation using Numpy\nprint(f\"MAE: {mae(actual_values, predicted_values)}\")\n\n#Results are \n#1. RMSE: 55064.0688338987\n#2. MAE: 37438.68916270548",
      "metadata": {
        "trusted": true
      },
      "outputs": [],
      "execution_count": null
    }
  ]
}