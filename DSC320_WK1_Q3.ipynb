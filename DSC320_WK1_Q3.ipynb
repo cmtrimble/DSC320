{
  "metadata": {
    "kernelspec": {
      "name": "python",
      "display_name": "Python (Pyodide)",
      "language": "python"
    },
    "language_info": {
      "codemirror_mode": {
        "name": "python",
        "version": 3
      },
      "file_extension": ".py",
      "mimetype": "text/x-python",
      "name": "python",
      "nbconvert_exporter": "python",
      "pygments_lexer": "ipython3",
      "version": "3.8"
    }
  },
  "nbformat_minor": 4,
  "nbformat": 4,
  "cells": [
    {
      "cell_type": "code",
      "source": "import pandas as pd\nimport numpy as np\n\n#Read CSV \ndf = pd.read_csv('mushroom_data.csv')\n\n#define actual and predicted values\nactual_values = df['actual']\npredicted_values = df['predicted']\n\n#accuracy function\ndef accuracy(actual_values, predicted_values):\n  correct_predictions = np.sum(actual_values == predicted_values)\n  total_predictions = len(actual_values)\n#return predictions as percentage\n  return correct_predictions / total_predictions * 100\n\n#value of accuracy\naccuracy_value = accuracy(actual_values, predicted_values)\n\n#show results\nprint(f\"Accuracy: {accuracy_value}%\")\n\n#3. Accuracy: 84.71%",
      "metadata": {
        "trusted": true
      },
      "outputs": [],
      "execution_count": null
    },
    {
      "cell_type": "code",
      "source": "",
      "metadata": {
        "trusted": true
      },
      "outputs": [],
      "execution_count": null
    }
  ]
}