{
  "metadata": {
    "kernelspec": {
      "name": "python",
      "display_name": "Python (Pyodide)",
      "language": "python"
    },
    "language_info": {
      "codemirror_mode": {
        "name": "python",
        "version": 3
      },
      "file_extension": ".py",
      "mimetype": "text/x-python",
      "name": "python",
      "nbconvert_exporter": "python",
      "pygments_lexer": "ipython3",
      "version": "3.8"
    }
  },
  "nbformat_minor": 4,
  "nbformat": 4,
  "cells": [
    {
      "cell_type": "code",
      "source": "import csv\nimport pandas as pd\ndf = pd.read_csv('car_data.csv')\nx = df.iloc[:, 0]\ny = df.iloc[:, 1]\nimport matplotlib.pyplot as plt\nimport numpy as np\nx = df['weight'].values\ny = df['hwy_mpg'].values\nm, b = np.polyfit(x,y, 1)\nplt.scatter(x, y, label = 'Data')\nplt.plot(x, m*x+b, color='red', label='Best Fit Line')\nplt.xlabel('Weight')\nplt.ylabel('Highway MPG')\nplt.title('Highway MPG vs Weight')\nplt.legend()\nplt.show()\nprint(f\"Slope (m): {m}\")\nprint(f\"Y-Intercept (b): {b}\")\nSlope (m): -0.010547157168719583\nY-Intercept (b): 57.705174225744706\nfrom sklearn.linear_model import LinearRegression\nx = df[['weight']].values\ny = df[['hwy_mpg']].values\nmodel = LinearRegression()\nmodel.fit(x, y)\ncar_weight = 3200\npredicted_highway_mpg = model.predict([[car_weight]])\nprint(f\"The predicted mpg for a car that weighs {car_weight} is: {predicted_highway_mpg[0]}\")\nThe predicted mpg for a car that weighs 3200 is: [23.95427129]\n",
      "metadata": {
        "trusted": true
      },
      "outputs": [
        {
          "ename": "<class 'SyntaxError'>",
          "evalue": "illegal target for annotation (<ipython-input-2-21a9c875be84>, line 20)",
          "traceback": [
            "\u001b[0;36m  Cell \u001b[0;32mIn[2], line 20\u001b[0;36m\u001b[0m\n\u001b[0;31m    Slope (m): -0.010547157168719583\u001b[0m\n\u001b[0m    ^\u001b[0m\n\u001b[0;31mSyntaxError\u001b[0m\u001b[0;31m:\u001b[0m illegal target for annotation\n"
          ],
          "output_type": "error"
        }
      ],
      "execution_count": 2
    },
    {
      "cell_type": "code",
      "source": "",
      "metadata": {
        "trusted": true
      },
      "outputs": [],
      "execution_count": null
    }
  ]
}